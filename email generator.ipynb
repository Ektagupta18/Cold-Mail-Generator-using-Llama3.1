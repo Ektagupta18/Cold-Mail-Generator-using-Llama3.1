{
 "cells": [
  {
   "cell_type": "code",
   "execution_count": 1,
   "id": "2c5afc0f-3fb8-4735-b05a-177fc8fdb868",
   "metadata": {},
   "outputs": [
    {
     "name": "stdout",
     "output_type": "stream",
     "text": [
      "Requirement already satisfied: langchain in c:\\users\\ekta gupta\\myenv\\lib\\site-packages (0.3.3)\n",
      "Requirement already satisfied: PyYAML>=5.3 in c:\\users\\ekta gupta\\myenv\\lib\\site-packages (from langchain) (6.0.2)\n",
      "Requirement already satisfied: SQLAlchemy<3,>=1.4 in c:\\users\\ekta gupta\\myenv\\lib\\site-packages (from langchain) (2.0.35)\n",
      "Requirement already satisfied: aiohttp<4.0.0,>=3.8.3 in c:\\users\\ekta gupta\\myenv\\lib\\site-packages (from langchain) (3.10.10)\n",
      "Requirement already satisfied: langchain-core<0.4.0,>=0.3.10 in c:\\users\\ekta gupta\\myenv\\lib\\site-packages (from langchain) (0.3.10)\n",
      "Requirement already satisfied: langchain-text-splitters<0.4.0,>=0.3.0 in c:\\users\\ekta gupta\\myenv\\lib\\site-packages (from langchain) (0.3.0)\n",
      "Requirement already satisfied: langsmith<0.2.0,>=0.1.17 in c:\\users\\ekta gupta\\myenv\\lib\\site-packages (from langchain) (0.1.134)\n",
      "Requirement already satisfied: numpy<2.0.0,>=1.26.0 in c:\\users\\ekta gupta\\myenv\\lib\\site-packages (from langchain) (1.26.4)\n",
      "Requirement already satisfied: pydantic<3.0.0,>=2.7.4 in c:\\users\\ekta gupta\\myenv\\lib\\site-packages (from langchain) (2.9.2)\n",
      "Requirement already satisfied: requests<3,>=2 in c:\\users\\ekta gupta\\myenv\\lib\\site-packages (from langchain) (2.32.3)\n",
      "Requirement already satisfied: tenacity!=8.4.0,<9.0.0,>=8.1.0 in c:\\users\\ekta gupta\\myenv\\lib\\site-packages (from langchain) (8.5.0)\n",
      "Requirement already satisfied: aiohappyeyeballs>=2.3.0 in c:\\users\\ekta gupta\\myenv\\lib\\site-packages (from aiohttp<4.0.0,>=3.8.3->langchain) (2.4.3)\n",
      "Requirement already satisfied: aiosignal>=1.1.2 in c:\\users\\ekta gupta\\myenv\\lib\\site-packages (from aiohttp<4.0.0,>=3.8.3->langchain) (1.3.1)\n",
      "Requirement already satisfied: attrs>=17.3.0 in c:\\users\\ekta gupta\\myenv\\lib\\site-packages (from aiohttp<4.0.0,>=3.8.3->langchain) (24.2.0)\n",
      "Requirement already satisfied: frozenlist>=1.1.1 in c:\\users\\ekta gupta\\myenv\\lib\\site-packages (from aiohttp<4.0.0,>=3.8.3->langchain) (1.4.1)\n",
      "Requirement already satisfied: multidict<7.0,>=4.5 in c:\\users\\ekta gupta\\myenv\\lib\\site-packages (from aiohttp<4.0.0,>=3.8.3->langchain) (6.1.0)\n",
      "Requirement already satisfied: yarl<2.0,>=1.12.0 in c:\\users\\ekta gupta\\myenv\\lib\\site-packages (from aiohttp<4.0.0,>=3.8.3->langchain) (1.14.0)\n",
      "Requirement already satisfied: jsonpatch<2.0,>=1.33 in c:\\users\\ekta gupta\\myenv\\lib\\site-packages (from langchain-core<0.4.0,>=0.3.10->langchain) (1.33)\n",
      "Requirement already satisfied: packaging<25,>=23.2 in c:\\users\\ekta gupta\\myenv\\lib\\site-packages (from langchain-core<0.4.0,>=0.3.10->langchain) (24.1)\n",
      "Requirement already satisfied: typing-extensions>=4.7 in c:\\users\\ekta gupta\\myenv\\lib\\site-packages (from langchain-core<0.4.0,>=0.3.10->langchain) (4.12.2)\n",
      "Requirement already satisfied: httpx<1,>=0.23.0 in c:\\users\\ekta gupta\\myenv\\lib\\site-packages (from langsmith<0.2.0,>=0.1.17->langchain) (0.27.2)\n",
      "Requirement already satisfied: orjson<4.0.0,>=3.9.14 in c:\\users\\ekta gupta\\myenv\\lib\\site-packages (from langsmith<0.2.0,>=0.1.17->langchain) (3.10.7)\n",
      "Requirement already satisfied: requests-toolbelt<2.0.0,>=1.0.0 in c:\\users\\ekta gupta\\myenv\\lib\\site-packages (from langsmith<0.2.0,>=0.1.17->langchain) (1.0.0)\n",
      "Requirement already satisfied: annotated-types>=0.6.0 in c:\\users\\ekta gupta\\myenv\\lib\\site-packages (from pydantic<3.0.0,>=2.7.4->langchain) (0.7.0)\n",
      "Requirement already satisfied: pydantic-core==2.23.4 in c:\\users\\ekta gupta\\myenv\\lib\\site-packages (from pydantic<3.0.0,>=2.7.4->langchain) (2.23.4)\n",
      "Requirement already satisfied: charset-normalizer<4,>=2 in c:\\users\\ekta gupta\\myenv\\lib\\site-packages (from requests<3,>=2->langchain) (3.4.0)\n",
      "Requirement already satisfied: idna<4,>=2.5 in c:\\users\\ekta gupta\\myenv\\lib\\site-packages (from requests<3,>=2->langchain) (3.10)\n",
      "Requirement already satisfied: urllib3<3,>=1.21.1 in c:\\users\\ekta gupta\\myenv\\lib\\site-packages (from requests<3,>=2->langchain) (2.2.3)\n",
      "Requirement already satisfied: certifi>=2017.4.17 in c:\\users\\ekta gupta\\myenv\\lib\\site-packages (from requests<3,>=2->langchain) (2024.8.30)\n",
      "Requirement already satisfied: greenlet!=0.4.17 in c:\\users\\ekta gupta\\myenv\\lib\\site-packages (from SQLAlchemy<3,>=1.4->langchain) (3.1.1)\n",
      "Requirement already satisfied: anyio in c:\\users\\ekta gupta\\myenv\\lib\\site-packages (from httpx<1,>=0.23.0->langsmith<0.2.0,>=0.1.17->langchain) (4.6.0)\n",
      "Requirement already satisfied: httpcore==1.* in c:\\users\\ekta gupta\\myenv\\lib\\site-packages (from httpx<1,>=0.23.0->langsmith<0.2.0,>=0.1.17->langchain) (1.0.6)\n",
      "Requirement already satisfied: sniffio in c:\\users\\ekta gupta\\myenv\\lib\\site-packages (from httpx<1,>=0.23.0->langsmith<0.2.0,>=0.1.17->langchain) (1.3.1)\n",
      "Requirement already satisfied: h11<0.15,>=0.13 in c:\\users\\ekta gupta\\myenv\\lib\\site-packages (from httpcore==1.*->httpx<1,>=0.23.0->langsmith<0.2.0,>=0.1.17->langchain) (0.14.0)\n",
      "Requirement already satisfied: jsonpointer>=1.9 in c:\\users\\ekta gupta\\myenv\\lib\\site-packages (from jsonpatch<2.0,>=1.33->langchain-core<0.4.0,>=0.3.10->langchain) (3.0.0)\n",
      "Requirement already satisfied: propcache>=0.2.0 in c:\\users\\ekta gupta\\myenv\\lib\\site-packages (from yarl<2.0,>=1.12.0->aiohttp<4.0.0,>=3.8.3->langchain) (0.2.0)\n",
      "Note: you may need to restart the kernel to use updated packages.\n"
     ]
    }
   ],
   "source": [
    "%pip install langchain"
   ]
  },
  {
   "cell_type": "code",
   "execution_count": 2,
   "id": "a653aac5-a14b-4408-b09f-ee53a0736129",
   "metadata": {},
   "outputs": [
    {
     "name": "stdout",
     "output_type": "stream",
     "text": [
      "Note: you may need to restart the kernel to use updated packages.\n"
     ]
    }
   ],
   "source": [
    "%pip install -qU langchain-groq"
   ]
  },
  {
   "cell_type": "code",
   "execution_count": 3,
   "id": "66b45c91-d726-4f74-8d3a-573b8e8950bb",
   "metadata": {},
   "outputs": [
    {
     "name": "stdout",
     "output_type": "stream",
     "text": [
      "Requirement already satisfied: pip in c:\\users\\ekta gupta\\anaconda\\lib\\site-packages (22.3.1)\n",
      "Collecting pip\n",
      "  Using cached pip-24.2-py3-none-any.whl (1.8 MB)\n",
      "Installing collected packages: pip\n",
      "  Attempting uninstall: pip\n",
      "    Found existing installation: pip 22.3.1\n",
      "    Uninstalling pip-22.3.1:\n",
      "      Successfully uninstalled pip-22.3.1\n",
      "Successfully installed pip-24.2\n"
     ]
    }
   ],
   "source": [
    "!python -m pip install --upgrade pip"
   ]
  },
  {
   "cell_type": "code",
   "execution_count": 4,
   "id": "40067def-2a78-4a5d-bde5-4dbea0547235",
   "metadata": {},
   "outputs": [],
   "source": [
    "from langchain_groq import ChatGroq"
   ]
  },
  {
   "cell_type": "code",
   "execution_count": 5,
   "id": "ff5a7d53-9fa0-45a0-b20a-55787e1abb6b",
   "metadata": {},
   "outputs": [
    {
     "name": "stdout",
     "output_type": "stream",
     "text": [
      "The first person to land on the moon was Neil Armstrong. He stepped onto the lunar surface on July 20, 1969, as part of the Apollo 11 mission.\n"
     ]
    }
   ],
   "source": [
    "llm=ChatGroq(\n",
    "    temperature=0,\n",
    "    groq_api_key='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',\n",
    "    model_name=\"llama-3.1-70b-versatile\"\n",
    ")\n",
    "response=llm.invoke(\"the first person to land on moon was...\")\n",
    "print(response.content)"
   ]
  },
  {
   "cell_type": "code",
   "execution_count": 6,
   "id": "134dc877-fd2e-4435-a465-ebc7e1302742",
   "metadata": {},
   "outputs": [
    {
     "name": "stdout",
     "output_type": "stream",
     "text": [
      "Collecting langchain-community\n",
      "  Using cached langchain_community-0.3.2-py3-none-any.whl.metadata (2.8 kB)\n",
      "Requirement already satisfied: PyYAML>=5.3 in c:\\users\\ekta gupta\\anaconda\\lib\\site-packages (from langchain-community) (6.0)\n",
      "Requirement already satisfied: SQLAlchemy<3,>=1.4 in c:\\users\\ekta gupta\\anaconda\\lib\\site-packages (from langchain-community) (1.4.39)\n",
      "Requirement already satisfied: aiohttp<4.0.0,>=3.8.3 in c:\\users\\ekta gupta\\anaconda\\lib\\site-packages (from langchain-community) (3.8.5)\n",
      "Collecting dataclasses-json<0.7,>=0.5.7 (from langchain-community)\n",
      "  Using cached dataclasses_json-0.6.7-py3-none-any.whl.metadata (25 kB)\n",
      "Requirement already satisfied: langchain<0.4.0,>=0.3.3 in c:\\users\\ekta gupta\\anaconda\\lib\\site-packages (from langchain-community) (0.3.3)\n",
      "Requirement already satisfied: langchain-core<0.4.0,>=0.3.10 in c:\\users\\ekta gupta\\anaconda\\lib\\site-packages (from langchain-community) (0.3.10)\n",
      "Requirement already satisfied: langsmith<0.2.0,>=0.1.125 in c:\\users\\ekta gupta\\anaconda\\lib\\site-packages (from langchain-community) (0.1.133)\n",
      "Requirement already satisfied: numpy<2,>=1 in c:\\users\\ekta gupta\\anaconda\\lib\\site-packages (from langchain-community) (1.23.5)\n",
      "Collecting pydantic-settings<3.0.0,>=2.4.0 (from langchain-community)\n",
      "  Using cached pydantic_settings-2.5.2-py3-none-any.whl.metadata (3.5 kB)\n",
      "Requirement already satisfied: requests<3,>=2 in c:\\users\\ekta gupta\\anaconda\\lib\\site-packages (from langchain-community) (2.28.1)\n",
      "Requirement already satisfied: tenacity!=8.4.0,<9.0.0,>=8.1.0 in c:\\users\\ekta gupta\\anaconda\\lib\\site-packages (from langchain-community) (8.5.0)\n",
      "Requirement already satisfied: attrs>=17.3.0 in c:\\users\\ekta gupta\\anaconda\\lib\\site-packages (from aiohttp<4.0.0,>=3.8.3->langchain-community) (22.1.0)\n",
      "Requirement already satisfied: charset-normalizer<4.0,>=2.0 in c:\\users\\ekta gupta\\anaconda\\lib\\site-packages (from aiohttp<4.0.0,>=3.8.3->langchain-community) (2.0.4)\n",
      "Requirement already satisfied: multidict<7.0,>=4.5 in c:\\users\\ekta gupta\\anaconda\\lib\\site-packages (from aiohttp<4.0.0,>=3.8.3->langchain-community) (6.0.4)\n",
      "Requirement already satisfied: async-timeout<5.0,>=4.0.0a3 in c:\\users\\ekta gupta\\anaconda\\lib\\site-packages (from aiohttp<4.0.0,>=3.8.3->langchain-community) (4.0.2)\n",
      "Requirement already satisfied: yarl<2.0,>=1.0 in c:\\users\\ekta gupta\\anaconda\\lib\\site-packages (from aiohttp<4.0.0,>=3.8.3->langchain-community) (1.9.2)\n",
      "Requirement already satisfied: frozenlist>=1.1.1 in c:\\users\\ekta gupta\\anaconda\\lib\\site-packages (from aiohttp<4.0.0,>=3.8.3->langchain-community) (1.4.0)\n",
      "Requirement already satisfied: aiosignal>=1.1.2 in c:\\users\\ekta gupta\\anaconda\\lib\\site-packages (from aiohttp<4.0.0,>=3.8.3->langchain-community) (1.3.1)\n",
      "Collecting marshmallow<4.0.0,>=3.18.0 (from dataclasses-json<0.7,>=0.5.7->langchain-community)\n",
      "  Using cached marshmallow-3.22.0-py3-none-any.whl.metadata (7.2 kB)\n",
      "Collecting typing-inspect<1,>=0.4.0 (from dataclasses-json<0.7,>=0.5.7->langchain-community)\n",
      "  Using cached typing_inspect-0.9.0-py3-none-any.whl.metadata (1.5 kB)\n",
      "Requirement already satisfied: langchain-text-splitters<0.4.0,>=0.3.0 in c:\\users\\ekta gupta\\anaconda\\lib\\site-packages (from langchain<0.4.0,>=0.3.3->langchain-community) (0.3.0)\n",
      "Requirement already satisfied: pydantic<3.0.0,>=2.7.4 in c:\\users\\ekta gupta\\anaconda\\lib\\site-packages (from langchain<0.4.0,>=0.3.3->langchain-community) (2.9.2)\n",
      "Requirement already satisfied: jsonpatch<2.0,>=1.33 in c:\\users\\ekta gupta\\anaconda\\lib\\site-packages (from langchain-core<0.4.0,>=0.3.10->langchain-community) (1.33)\n",
      "Requirement already satisfied: packaging<25,>=23.2 in c:\\users\\ekta gupta\\anaconda\\lib\\site-packages (from langchain-core<0.4.0,>=0.3.10->langchain-community) (24.1)\n",
      "Requirement already satisfied: typing-extensions>=4.7 in c:\\users\\ekta gupta\\anaconda\\lib\\site-packages (from langchain-core<0.4.0,>=0.3.10->langchain-community) (4.12.2)\n",
      "Requirement already satisfied: httpx<1,>=0.23.0 in c:\\users\\ekta gupta\\anaconda\\lib\\site-packages (from langsmith<0.2.0,>=0.1.125->langchain-community) (0.27.2)\n",
      "Requirement already satisfied: orjson<4.0.0,>=3.9.14 in c:\\users\\ekta gupta\\anaconda\\lib\\site-packages (from langsmith<0.2.0,>=0.1.125->langchain-community) (3.10.7)\n",
      "Requirement already satisfied: requests-toolbelt<2.0.0,>=1.0.0 in c:\\users\\ekta gupta\\anaconda\\lib\\site-packages (from langsmith<0.2.0,>=0.1.125->langchain-community) (1.0.0)\n",
      "Requirement already satisfied: python-dotenv>=0.21.0 in c:\\users\\ekta gupta\\anaconda\\lib\\site-packages (from pydantic-settings<3.0.0,>=2.4.0->langchain-community) (1.0.0)\n",
      "Requirement already satisfied: idna<4,>=2.5 in c:\\users\\ekta gupta\\anaconda\\lib\\site-packages (from requests<3,>=2->langchain-community) (3.4)\n",
      "Requirement already satisfied: urllib3<1.27,>=1.21.1 in c:\\users\\ekta gupta\\anaconda\\lib\\site-packages (from requests<3,>=2->langchain-community) (1.26.14)\n",
      "Requirement already satisfied: certifi>=2017.4.17 in c:\\users\\ekta gupta\\anaconda\\lib\\site-packages (from requests<3,>=2->langchain-community) (2022.12.7)\n",
      "Requirement already satisfied: greenlet!=0.4.17 in c:\\users\\ekta gupta\\anaconda\\lib\\site-packages (from SQLAlchemy<3,>=1.4->langchain-community) (2.0.1)\n",
      "Requirement already satisfied: anyio in c:\\users\\ekta gupta\\anaconda\\lib\\site-packages (from httpx<1,>=0.23.0->langsmith<0.2.0,>=0.1.125->langchain-community) (3.5.0)\n",
      "Requirement already satisfied: httpcore==1.* in c:\\users\\ekta gupta\\anaconda\\lib\\site-packages (from httpx<1,>=0.23.0->langsmith<0.2.0,>=0.1.125->langchain-community) (1.0.6)\n",
      "Requirement already satisfied: sniffio in c:\\users\\ekta gupta\\anaconda\\lib\\site-packages (from httpx<1,>=0.23.0->langsmith<0.2.0,>=0.1.125->langchain-community) (1.2.0)\n",
      "Requirement already satisfied: h11<0.15,>=0.13 in c:\\users\\ekta gupta\\anaconda\\lib\\site-packages (from httpcore==1.*->httpx<1,>=0.23.0->langsmith<0.2.0,>=0.1.125->langchain-community) (0.14.0)\n",
      "Requirement already satisfied: jsonpointer>=1.9 in c:\\users\\ekta gupta\\anaconda\\lib\\site-packages (from jsonpatch<2.0,>=1.33->langchain-core<0.4.0,>=0.3.10->langchain-community) (2.1)\n",
      "Requirement already satisfied: annotated-types>=0.6.0 in c:\\users\\ekta gupta\\anaconda\\lib\\site-packages (from pydantic<3.0.0,>=2.7.4->langchain<0.4.0,>=0.3.3->langchain-community) (0.7.0)\n",
      "Requirement already satisfied: pydantic-core==2.23.4 in c:\\users\\ekta gupta\\anaconda\\lib\\site-packages (from pydantic<3.0.0,>=2.7.4->langchain<0.4.0,>=0.3.3->langchain-community) (2.23.4)\n",
      "Requirement already satisfied: mypy-extensions>=0.3.0 in c:\\users\\ekta gupta\\anaconda\\lib\\site-packages (from typing-inspect<1,>=0.4.0->dataclasses-json<0.7,>=0.5.7->langchain-community) (0.4.3)\n",
      "Using cached langchain_community-0.3.2-py3-none-any.whl (2.4 MB)\n",
      "Using cached dataclasses_json-0.6.7-py3-none-any.whl (28 kB)\n",
      "Using cached pydantic_settings-2.5.2-py3-none-any.whl (26 kB)\n",
      "Using cached marshmallow-3.22.0-py3-none-any.whl (49 kB)\n",
      "Using cached typing_inspect-0.9.0-py3-none-any.whl (8.8 kB)\n",
      "Installing collected packages: typing-inspect, marshmallow, dataclasses-json, pydantic-settings, langchain-community\n",
      "Successfully installed dataclasses-json-0.6.7 langchain-community-0.3.2 marshmallow-3.22.0 pydantic-settings-2.5.2 typing-inspect-0.9.0\n"
     ]
    }
   ],
   "source": [
    "!pip install langchain-community"
   ]
  },
  {
   "cell_type": "code",
   "execution_count": 26,
   "id": "d855bda5-0790-4303-918f-9e8353e3f26a",
   "metadata": {},
   "outputs": [
    {
     "name": "stdout",
     "output_type": "stream",
     "text": [
      "Software Development Engineer Intern 2025, Artificial General Intelligence - Job ID: 2787427 | Amazon.jobs\n",
      "Skip to main contentHomeYour job applicationAmazon culture & benefitsDiversity at AmazonLocationsTeamsJob categoriesResourcesInterview tipsDisability accommodationsAbout AmazonFAQ×Software Development Engineer Intern 2025, Artificial General IntelligenceJob ID: 2787427 | Amazon.com Services LLCApply nowDESCRIPTIONWe’re on the lookout for the curious, those who think big and want to define the world of tomorrow. At Amazon, you will grow into the high impact, visionary person you know you’re ready to be. Every day will be filled with exciting new challenges, developing new skills, and achieving personal growth. How often can you say that your work changes the world? At Amazon, you’ll say it often. Join us and define tomorrow.At Amazon, we hire the best minds in technology to innovate and build on behalf of our customers. The intense focus we have on our customers is why we are one of the world’s most beloved brands – customer obsession is part of our company DNA. Our interns write real software and collaborate with experienced software development engineers (SDEs) who guide interns on projects that matter to our customers.Key job responsibilities• Collaborate with experienced cross-disciplinary Amazonians to conceive, design, and bring innovative products and services to market.• Design and build innovative technologies in a large distributed computing environment, and help lead fundamental changes in the industry.• Create solutions to run predictions on distributed systems with exposure to innovative technologies at incredible scale and speed.• Build distributed storage, index, and query systems that are scalable, fault-tolerant, low cost, and easy to manage/use.• Ability to design and code the right solutions starting with broadly defined problems.• Work in an agile environment to deliver high-quality software.A day in the lifeAs an intern, you will be matched to a manager and a mentor. You will have the opportunity to influence the evolution of Amazon technology and lead mission critical projects early in your career. Your design, code, and raw smarts will contribute to solving some of the most complex technical challenges in the areas of distributed systems, data mining, automation, optimization, scalability, and security – just to name a few.In addition to working on an impactful project, you will have the opportunity to engage with Amazonians for both personal and professional development, expand your network, and participate in activities with other interns throughout your internship. No matter the location of your internship, we give you the tools to own your project and learn in a real-world setting. Many of our technologies overlap, and you would be hard pressed to find a team that is not using Amazon Web Services (AWS), touching the catalogue, or iterating services to better personalize for customers.  We make the impossible, possible.About the teamAt Amazon, we’re at the forefront of transformative AI, shaping the next generation of intelligent technologies. For over 25 years, we’ve been pioneering state-of-the-art AI and machine learning (ML) models to revolutionize customer experiences worldwide.Now, we’re on the cusp of a new era, where AI holds the promise to reshape society and business in unprecedented ways. As part of our world-class team of AI experts—scientists, engineers, researchers, product builders, and public policy experts—here, you’ll have the opportunity to unlock the next frontiers of Artificial General Intelligence (AGI).We are looking for the brightest minds from a wide range of backgrounds and experiences. Join us in creating transformative AI solutions that will improve lives, solve global challenges, and open up new realms of possibility—from reinventing commerce and accelerating enterprise productivity to advancing universal agents and shaping the future of robotics.BASIC QUALIFICATIONS- Knowledge of computer science fundamentals such as object-oriented design, operating systems, algorithms, data structures, and complexity analysis- Are 18 years of age or older- Experience with at least one modern language such as Java, Python, C++, or C# including object-oriented design- Currently enrolled in a Bachelors, Masters, or PhD in Computer Science, Computer Engineering, Data Science, Electrical Engineering, or majors relating to these fields, with an expected graduation date between 10/2025 - 9/2028PREFERRED QUALIFICATIONS- Experience in optimization mathematics such as linear programming and nonlinear optimization- Experience with distributed, multi-tiered systems, algorithms, and relational databases- Candidates with strong interests and academic qualifications/research focus in: Artificial Intelligence, machine learning, and/or Generative AIAmazon is committed to a diverse and inclusive workplace. Amazon is an equal opportunity employer and does not discriminate on the basis of race, national origin, gender, gender identity, sexual orientation, protected veteran status, disability, age, or other legally protected status. For individuals with disabilities who would like to request an accommodation, please visit https://www.amazon.jobs/en/disability/us.Los Angeles County applicants: Job duties for this position include: work safely and cooperatively with other employees, supervisors, and staff; adhere to standards of excellence despite stressful conditions; communicate effectively and respectfully with employees, supervisors, and staff to ensure exceptional customer service; and follow all federal, state, and local laws and Company policies. Criminal history may have a direct, adverse, and negative relationship with some of the material job duties of this position. These include the duties and responsibilities listed above, as well as the abilities to adhere to company policies, exercise sound judgment, effectively manage stress and work safely and respectfully with others, exhibit trustworthiness and professionalism, and safeguard business operations and the Company’s reputation. Pursuant to the Los Angeles County Fair Chance Ordinance, we will consider for employment qualified applicants with arrest and conviction records.Our compensation reflects the cost of labor across several US geographic markets. The base pay for this position ranges from $47.84/hr in our lowest geographic market up to $96.15/hr in our highest geographic market. Pay is based on a number of factors including market location and may vary depending on job-related knowledge, skills, and experience. Amazon is a total compensation company. Dependent on the position offered, equity, sign-on payments, and other forms of compensation may be provided as part of a total compensation package, in addition to a full range of medical, financial, and/or other benefits. For more information,  please visit https://www.aboutamazon.com/workplace/employee-benefits. This position will remain posted until filled. Applicants should apply via our internal or external career site.Job detailsUSA, PA, PittsburghUSA, CA, SunnyvaleUSA, WA, SeattleUSA, WA, RedmondUSA, WA, BellevueUSA, CA, IrvineUSA, MA, CambridgeInternships for studentsSoftware DevelopmentShare this jobJOIN US ONFind CareersJob CategoriesTeamsLocationsUS and EU Military recruitingWarehouse and Hourly JobsWorking At AmazonCultureBenefitsAmazon NewsletterDiversity at AmazonOur leadership principlesHelpFAQInterview tipsReview application statusDisability accommodationsEU background checksAmazon is committed to a diverse and inclusive workplace. Amazon is an equal opportunity employer and does not discriminate on the basis of race, national origin, gender, gender identity, sexual orientation, protected veteran status, disability, age, or other legally protected status.Privacy and DataImpressum© 1996-2024, Amazon.com, Inc. or its affiliates\n"
     ]
    }
   ],
   "source": [
    "from langchain_community.document_loaders import WebBaseLoader\n",
    "\n",
    "loader = WebBaseLoader(\"https://amazon.jobs/en/jobs/2787427/software-development-engineer-intern-2025-artificial-general-intelligence\")\n",
    "page_data=loader.load().pop().page_content\n",
    "print(page_data)"
   ]
  },
  {
   "cell_type": "code",
   "execution_count": 27,
   "id": "eabf042c-6325-4203-a842-141a33641ab6",
   "metadata": {},
   "outputs": [
    {
     "name": "stdout",
     "output_type": "stream",
     "text": [
      "```json\n",
      "{\n",
      "  \"role\": \"Software Development Engineer Intern 2025, Artificial General Intelligence\",\n",
      "  \"experience\": \"Internship\",\n",
      "  \"skills\": [\n",
      "    \"Computer science fundamentals\",\n",
      "    \"Object-oriented design\",\n",
      "    \"Operating systems\",\n",
      "    \"Algorithms\",\n",
      "    \"Data structures\",\n",
      "    \"Complexity analysis\",\n",
      "    \"Java\",\n",
      "    \"Python\",\n",
      "    \"C++\",\n",
      "    \"C#\",\n",
      "    \"Optimization mathematics\",\n",
      "    \"Linear programming\",\n",
      "    \"Nonlinear optimization\",\n",
      "    \"Distributed, multi-tiered systems\",\n",
      "    \"Algorithms\",\n",
      "    \"Relational databases\",\n",
      "    \"Artificial Intelligence\",\n",
      "    \"Machine learning\",\n",
      "    \"Generative AI\"\n",
      "  ],\n",
      "  \"description\": \"Collaborate with experienced cross-disciplinary Amazonians to conceive, design, and bring innovative products and services to market. Design and build innovative technologies in a large distributed computing environment, and help lead fundamental changes in the industry. Create solutions to run predictions on distributed systems with exposure to innovative technologies at incredible scale and speed. Build distributed storage, index, and query systems that are scalable, fault-tolerant, low cost, and easy to manage/use.\"\n",
      "}\n",
      "```\n"
     ]
    }
   ],
   "source": [
    "from langchain_core.prompts import PromptTemplate\n",
    "prompt_extract=PromptTemplate.from_template(\n",
    "    \"\"\"\n",
    "    ### SCRAPED TEXT FROM WEBSITE:\n",
    "    {page_data}\n",
    "    ### INSTRUCTION:\n",
    "    The scraped text is from the career's page of a website.\n",
    "    Your job is to extract the job postings and return them in JSON format containing the following \n",
    "    keys: 'role','experience','skills' and 'description'.\n",
    "    Only return the valid JSON.\n",
    "    ### VALID JSON (NO PREAMBLE):\n",
    "    \"\"\"\n",
    ")\n",
    "chain_extract = prompt_extract | llm\n",
    "res = chain_extract.invoke(input={'page_data': page_data})\n",
    "print(res.content)"
   ]
  },
  {
   "cell_type": "code",
   "execution_count": 28,
   "id": "9faaed65-6bf8-437c-bacc-3b3bb821f01b",
   "metadata": {},
   "outputs": [
    {
     "data": {
      "text/plain": [
       "{'role': 'Software Development Engineer Intern 2025, Artificial General Intelligence',\n",
       " 'experience': 'Internship',\n",
       " 'skills': ['Computer science fundamentals',\n",
       "  'Object-oriented design',\n",
       "  'Operating systems',\n",
       "  'Algorithms',\n",
       "  'Data structures',\n",
       "  'Complexity analysis',\n",
       "  'Java',\n",
       "  'Python',\n",
       "  'C++',\n",
       "  'C#',\n",
       "  'Optimization mathematics',\n",
       "  'Linear programming',\n",
       "  'Nonlinear optimization',\n",
       "  'Distributed, multi-tiered systems',\n",
       "  'Algorithms',\n",
       "  'Relational databases',\n",
       "  'Artificial Intelligence',\n",
       "  'Machine learning',\n",
       "  'Generative AI'],\n",
       " 'description': 'Collaborate with experienced cross-disciplinary Amazonians to conceive, design, and bring innovative products and services to market. Design and build innovative technologies in a large distributed computing environment, and help lead fundamental changes in the industry. Create solutions to run predictions on distributed systems with exposure to innovative technologies at incredible scale and speed. Build distributed storage, index, and query systems that are scalable, fault-tolerant, low cost, and easy to manage/use.'}"
      ]
     },
     "execution_count": 28,
     "metadata": {},
     "output_type": "execute_result"
    }
   ],
   "source": [
    "from langchain_core.output_parsers import JsonOutputParser\n",
    "json_parser = JsonOutputParser()\n",
    "json_res = json_parser.parse(res.content)\n",
    "json_res"
   ]
  },
  {
   "cell_type": "code",
   "execution_count": 29,
   "id": "546720dc-4d23-4019-9b08-e83804995c7d",
   "metadata": {},
   "outputs": [
    {
     "name": "stdout",
     "output_type": "stream",
     "text": [
      "Requirement already satisfied: pandas in c:\\users\\ekta gupta\\anaconda\\lib\\site-packages (1.5.3)\n",
      "Requirement already satisfied: python-dateutil>=2.8.1 in c:\\users\\ekta gupta\\anaconda\\lib\\site-packages (from pandas) (2.8.2)\n",
      "Requirement already satisfied: pytz>=2020.1 in c:\\users\\ekta gupta\\anaconda\\lib\\site-packages (from pandas) (2022.7)\n",
      "Requirement already satisfied: numpy>=1.21.0 in c:\\users\\ekta gupta\\anaconda\\lib\\site-packages (from pandas) (1.23.5)\n",
      "Requirement already satisfied: six>=1.5 in c:\\users\\ekta gupta\\anaconda\\lib\\site-packages (from python-dateutil>=2.8.1->pandas) (1.16.0)\n"
     ]
    }
   ],
   "source": [
    "!pip install pandas"
   ]
  },
  {
   "cell_type": "code",
   "execution_count": 30,
   "id": "1cf9d61c-fe96-4446-b44d-946b0cbd9651",
   "metadata": {},
   "outputs": [
    {
     "name": "stderr",
     "output_type": "stream",
     "text": [
      "C:\\Users\\Ekta Gupta\\AppData\\Local\\Temp\\ipykernel_10652\\2863374836.py:4: FutureWarning: A value is trying to be set on a copy of a DataFrame or Series through chained assignment using an inplace method.\n",
      "The behavior will change in pandas 3.0. This inplace method will never work because the intermediate object on which we are setting values always behaves as a copy.\n",
      "\n",
      "For example, when doing 'df[col].method(value, inplace=True)', try using 'df.method({col: value}, inplace=True)' or df[col] = df[col].method(value) instead, to perform the operation inplace on the original object.\n",
      "\n",
      "\n",
      "  df[\"Techstack\"].fillna(\"\", inplace=True)\n"
     ]
    },
    {
     "data": {
      "text/html": [
       "<div>\n",
       "<style scoped>\n",
       "    .dataframe tbody tr th:only-of-type {\n",
       "        vertical-align: middle;\n",
       "    }\n",
       "\n",
       "    .dataframe tbody tr th {\n",
       "        vertical-align: top;\n",
       "    }\n",
       "\n",
       "    .dataframe thead th {\n",
       "        text-align: right;\n",
       "    }\n",
       "</style>\n",
       "<table border=\"1\" class=\"dataframe\">\n",
       "  <thead>\n",
       "    <tr style=\"text-align: right;\">\n",
       "      <th></th>\n",
       "      <th>Techstack</th>\n",
       "      <th>Links</th>\n",
       "    </tr>\n",
       "  </thead>\n",
       "  <tbody>\n",
       "    <tr>\n",
       "      <th>0</th>\n",
       "      <td>Python,SQL,C++ ,Html 5, CSS,TensorFlow, PyTorc...</td>\n",
       "      <td>https://drive.google.com/file/d/1efAn7uf5QWy36...</td>\n",
       "    </tr>\n",
       "    <tr>\n",
       "      <th>1</th>\n",
       "      <td>Python,SQL,C++ ,Html 5, CSS</td>\n",
       "      <td>https://drive.google.com/file/d/1efAn7uf5QWy36...</td>\n",
       "    </tr>\n",
       "    <tr>\n",
       "      <th>2</th>\n",
       "      <td>Python,SQL,C++ ,Html 5, CSS</td>\n",
       "      <td>https://drive.google.com/file/d/1efAn7uf5QWy36...</td>\n",
       "    </tr>\n",
       "    <tr>\n",
       "      <th>3</th>\n",
       "      <td>Python,MySQL</td>\n",
       "      <td>https://drive.google.com/file/d/1efAn7uf5QWy36...</td>\n",
       "    </tr>\n",
       "    <tr>\n",
       "      <th>4</th>\n",
       "      <td>Python,SQL,C++ ,Html 5, CSS</td>\n",
       "      <td>https://drive.google.com/file/d/1efAn7uf5QWy36...</td>\n",
       "    </tr>\n",
       "    <tr>\n",
       "      <th>5</th>\n",
       "      <td>Python,SQL,C++ ,Html 5, CSS</td>\n",
       "      <td>https://drive.google.com/file/d/1efAn7uf5QWy36...</td>\n",
       "    </tr>\n",
       "    <tr>\n",
       "      <th>6</th>\n",
       "      <td>TensorFlow, PyTorch, Scikit-learn,Transformers...</td>\n",
       "      <td>https://drive.google.com/file/d/1efAn7uf5QWy36...</td>\n",
       "    </tr>\n",
       "    <tr>\n",
       "      <th>7</th>\n",
       "      <td>V S Code,Android Studio,PyCharm, Eclipse</td>\n",
       "      <td>https://drive.google.com/file/d/1efAn7uf5QWy36...</td>\n",
       "    </tr>\n",
       "    <tr>\n",
       "      <th>8</th>\n",
       "      <td>Machine Learning, Python, TensorFlow</td>\n",
       "      <td>https://drive.google.com/file/d/1efAn7uf5QWy36...</td>\n",
       "    </tr>\n",
       "    <tr>\n",
       "      <th>9</th>\n",
       "      <td>DBMS, Object Oriented Programming, Operating S...</td>\n",
       "      <td>https://drive.google.com/file/d/1efAn7uf5QWy36...</td>\n",
       "    </tr>\n",
       "    <tr>\n",
       "      <th>10</th>\n",
       "      <td></td>\n",
       "      <td>NaN</td>\n",
       "    </tr>\n",
       "    <tr>\n",
       "      <th>11</th>\n",
       "      <td></td>\n",
       "      <td>NaN</td>\n",
       "    </tr>\n",
       "    <tr>\n",
       "      <th>12</th>\n",
       "      <td></td>\n",
       "      <td>NaN</td>\n",
       "    </tr>\n",
       "    <tr>\n",
       "      <th>13</th>\n",
       "      <td></td>\n",
       "      <td>NaN</td>\n",
       "    </tr>\n",
       "    <tr>\n",
       "      <th>14</th>\n",
       "      <td></td>\n",
       "      <td>NaN</td>\n",
       "    </tr>\n",
       "    <tr>\n",
       "      <th>15</th>\n",
       "      <td></td>\n",
       "      <td>NaN</td>\n",
       "    </tr>\n",
       "    <tr>\n",
       "      <th>16</th>\n",
       "      <td></td>\n",
       "      <td>NaN</td>\n",
       "    </tr>\n",
       "    <tr>\n",
       "      <th>17</th>\n",
       "      <td></td>\n",
       "      <td>NaN</td>\n",
       "    </tr>\n",
       "    <tr>\n",
       "      <th>18</th>\n",
       "      <td></td>\n",
       "      <td>NaN</td>\n",
       "    </tr>\n",
       "    <tr>\n",
       "      <th>19</th>\n",
       "      <td></td>\n",
       "      <td>NaN</td>\n",
       "    </tr>\n",
       "  </tbody>\n",
       "</table>\n",
       "</div>"
      ],
      "text/plain": [
       "                                            Techstack  \\\n",
       "0   Python,SQL,C++ ,Html 5, CSS,TensorFlow, PyTorc...   \n",
       "1                         Python,SQL,C++ ,Html 5, CSS   \n",
       "2                         Python,SQL,C++ ,Html 5, CSS   \n",
       "3                                        Python,MySQL   \n",
       "4                         Python,SQL,C++ ,Html 5, CSS   \n",
       "5                         Python,SQL,C++ ,Html 5, CSS   \n",
       "6   TensorFlow, PyTorch, Scikit-learn,Transformers...   \n",
       "7            V S Code,Android Studio,PyCharm, Eclipse   \n",
       "8                Machine Learning, Python, TensorFlow   \n",
       "9   DBMS, Object Oriented Programming, Operating S...   \n",
       "10                                                      \n",
       "11                                                      \n",
       "12                                                      \n",
       "13                                                      \n",
       "14                                                      \n",
       "15                                                      \n",
       "16                                                      \n",
       "17                                                      \n",
       "18                                                      \n",
       "19                                                      \n",
       "\n",
       "                                                Links  \n",
       "0   https://drive.google.com/file/d/1efAn7uf5QWy36...  \n",
       "1   https://drive.google.com/file/d/1efAn7uf5QWy36...  \n",
       "2   https://drive.google.com/file/d/1efAn7uf5QWy36...  \n",
       "3   https://drive.google.com/file/d/1efAn7uf5QWy36...  \n",
       "4   https://drive.google.com/file/d/1efAn7uf5QWy36...  \n",
       "5   https://drive.google.com/file/d/1efAn7uf5QWy36...  \n",
       "6   https://drive.google.com/file/d/1efAn7uf5QWy36...  \n",
       "7   https://drive.google.com/file/d/1efAn7uf5QWy36...  \n",
       "8   https://drive.google.com/file/d/1efAn7uf5QWy36...  \n",
       "9   https://drive.google.com/file/d/1efAn7uf5QWy36...  \n",
       "10                                                NaN  \n",
       "11                                                NaN  \n",
       "12                                                NaN  \n",
       "13                                                NaN  \n",
       "14                                                NaN  \n",
       "15                                                NaN  \n",
       "16                                                NaN  \n",
       "17                                                NaN  \n",
       "18                                                NaN  \n",
       "19                                                NaN  "
      ]
     },
     "execution_count": 30,
     "metadata": {},
     "output_type": "execute_result"
    }
   ],
   "source": [
    "import pandas as pd\n",
    "df=pd.read_csv(\"my_portfolio.csv\")\n",
    "# Option 1: Replace NaN values with an empty string\n",
    "df[\"Techstack\"].fillna(\"\", inplace=True)\n",
    "\n",
    "# Option 2: Drop rows where \"Techstack\" is NaN\n",
    "df.dropna(subset=[\"Techstack\"], inplace=True)\n",
    "df"
   ]
  },
  {
   "cell_type": "code",
   "execution_count": 31,
   "id": "0333d16c-ad5b-4328-b826-86ef5d8f56a6",
   "metadata": {},
   "outputs": [],
   "source": [
    "import uuid\n",
    "import chromadb\n",
    "\n",
    "client = chromadb.PersistentClient('vectorstore')\n",
    "collection = client.get_or_create_collection(name=\"portfolio\")\n",
    "\n",
    "if not collection.count():\n",
    "    for _, row in df.iterrows():\n",
    "        collection.add(documents=row[\"Techstack\"],\n",
    "                       metadatas={\"links\": row[\"Links\"]},\n",
    "                       ids=[str(uuid.uuid4())])"
   ]
  },
  {
   "cell_type": "code",
   "execution_count": 32,
   "id": "599704a0-f543-4dfa-be0f-ea80072deaf8",
   "metadata": {},
   "outputs": [
    {
     "data": {
      "text/plain": [
       "[[{'links': 'https://drive.google.com/file/d/1efAn7uf5QWy36Ajhq_bPzSGlGijiXQUW/view?usp=sharing'},\n",
       "  {'links': 'https://drive.google.com/file/d/1efAn7uf5QWy36Ajhq_bPzSGlGijiXQUW/view?usp=sharing'}],\n",
       " [{'links': 'https://drive.google.com/file/d/1efAn7uf5QWy36Ajhq_bPzSGlGijiXQUW/view?usp=sharing'},\n",
       "  {'links': 'https://drive.google.com/file/d/1efAn7uf5QWy36Ajhq_bPzSGlGijiXQUW/view?usp=sharing'}],\n",
       " [{'links': 'https://drive.google.com/file/d/1efAn7uf5QWy36Ajhq_bPzSGlGijiXQUW/view?usp=sharing'},\n",
       "  {'links': 'https://drive.google.com/file/d/1efAn7uf5QWy36Ajhq_bPzSGlGijiXQUW/view?usp=sharing'}],\n",
       " [{'links': 'https://drive.google.com/file/d/1efAn7uf5QWy36Ajhq_bPzSGlGijiXQUW/view?usp=sharing'},\n",
       "  {'links': 'https://drive.google.com/file/d/1efAn7uf5QWy36Ajhq_bPzSGlGijiXQUW/view?usp=sharing'}],\n",
       " [{'links': 'https://drive.google.com/file/d/1efAn7uf5QWy36Ajhq_bPzSGlGijiXQUW/view?usp=sharing'},\n",
       "  {'links': 'https://drive.google.com/file/d/1efAn7uf5QWy36Ajhq_bPzSGlGijiXQUW/view?usp=sharing'}],\n",
       " [{'links': 'https://drive.google.com/file/d/1efAn7uf5QWy36Ajhq_bPzSGlGijiXQUW/view?usp=sharing'},\n",
       "  {'links': 'https://drive.google.com/file/d/1efAn7uf5QWy36Ajhq_bPzSGlGijiXQUW/view?usp=sharing'}],\n",
       " [{'links': 'https://drive.google.com/file/d/1efAn7uf5QWy36Ajhq_bPzSGlGijiXQUW/view?usp=sharing'},\n",
       "  {'links': 'https://drive.google.com/file/d/1efAn7uf5QWy36Ajhq_bPzSGlGijiXQUW/view?usp=sharing'}],\n",
       " [{'links': 'https://drive.google.com/file/d/1efAn7uf5QWy36Ajhq_bPzSGlGijiXQUW/view?usp=sharing'},\n",
       "  {'links': 'https://drive.google.com/file/d/1efAn7uf5QWy36Ajhq_bPzSGlGijiXQUW/view?usp=sharing'}],\n",
       " [{'links': 'https://drive.google.com/file/d/1efAn7uf5QWy36Ajhq_bPzSGlGijiXQUW/view?usp=sharing'},\n",
       "  {'links': 'https://drive.google.com/file/d/1efAn7uf5QWy36Ajhq_bPzSGlGijiXQUW/view?usp=sharing'}],\n",
       " [{'links': 'https://drive.google.com/file/d/1efAn7uf5QWy36Ajhq_bPzSGlGijiXQUW/view?usp=sharing'},\n",
       "  {'links': 'https://drive.google.com/file/d/1efAn7uf5QWy36Ajhq_bPzSGlGijiXQUW/view?usp=sharing'}],\n",
       " [{'links': 'https://drive.google.com/file/d/1efAn7uf5QWy36Ajhq_bPzSGlGijiXQUW/view?usp=sharing'},\n",
       "  {'links': 'https://drive.google.com/file/d/1efAn7uf5QWy36Ajhq_bPzSGlGijiXQUW/view?usp=sharing'}],\n",
       " [{'links': 'https://drive.google.com/file/d/1efAn7uf5QWy36Ajhq_bPzSGlGijiXQUW/view?usp=sharing'},\n",
       "  {'links': 'https://drive.google.com/file/d/1efAn7uf5QWy36Ajhq_bPzSGlGijiXQUW/view?usp=sharing'}],\n",
       " [{'links': 'https://drive.google.com/file/d/1efAn7uf5QWy36Ajhq_bPzSGlGijiXQUW/view?usp=sharing'},\n",
       "  {'links': 'https://drive.google.com/file/d/1efAn7uf5QWy36Ajhq_bPzSGlGijiXQUW/view?usp=sharing'}],\n",
       " [{'links': 'https://drive.google.com/file/d/1efAn7uf5QWy36Ajhq_bPzSGlGijiXQUW/view?usp=sharing'},\n",
       "  {'links': 'https://drive.google.com/file/d/1efAn7uf5QWy36Ajhq_bPzSGlGijiXQUW/view?usp=sharing'}],\n",
       " [{'links': 'https://drive.google.com/file/d/1efAn7uf5QWy36Ajhq_bPzSGlGijiXQUW/view?usp=sharing'},\n",
       "  {'links': 'https://drive.google.com/file/d/1efAn7uf5QWy36Ajhq_bPzSGlGijiXQUW/view?usp=sharing'}]]"
      ]
     },
     "execution_count": 32,
     "metadata": {},
     "output_type": "execute_result"
    }
   ],
   "source": [
    "links = collection.query(query_texts=job['skills'], n_results=2).get('metadatas', [])\n",
    "links"
   ]
  },
  {
   "cell_type": "code",
   "execution_count": 33,
   "id": "a41e6239-c25a-4f45-8240-cab09efeec1c",
   "metadata": {},
   "outputs": [
    {
     "data": {
      "text/plain": [
       "['Computer science fundamentals',\n",
       " 'Object-oriented design',\n",
       " 'Operating systems',\n",
       " 'Algorithms',\n",
       " 'Data structures',\n",
       " 'Complexity analysis',\n",
       " 'Java',\n",
       " 'Python',\n",
       " 'C++',\n",
       " 'C#',\n",
       " 'Optimization mathematics',\n",
       " 'Linear programming',\n",
       " 'Nonlinear optimization',\n",
       " 'Distributed, multi-tiered systems',\n",
       " 'Algorithms',\n",
       " 'Relational databases',\n",
       " 'Artificial Intelligence',\n",
       " 'Machine learning',\n",
       " 'Generative AI']"
      ]
     },
     "execution_count": 33,
     "metadata": {},
     "output_type": "execute_result"
    }
   ],
   "source": [
    "job= json_res\n",
    "job['skills']"
   ]
  },
  {
   "cell_type": "code",
   "execution_count": 34,
   "id": "99f23fc6-5d83-4d8c-ac77-c10feb4e6b5a",
   "metadata": {},
   "outputs": [
    {
     "name": "stdout",
     "output_type": "stream",
     "text": [
      "Subject: Application for Software Development Engineer Intern 2025, Artificial General Intelligence\n",
      "\n",
      "Dear Hiring Manager,\n",
      "\n",
      "I am excited to apply for the Software Development Engineer Intern 2025, Artificial General Intelligence position at Amazon. As an AI Intern at Rajasthan Police HeadQuarter, I have developed a strong foundation in computer science fundamentals, machine learning, and artificial intelligence. I am confident that my skills and experience make me an ideal candidate for this role.\n",
      "\n",
      "With a strong background in computer science, I possess expertise in programming languages such as Python, SQL, C++, HTML5, and CSS. My experience with machine learning and AI frameworks, including TensorFlow, PyTorch, Scikit-learn, and Transformers, has enabled me to develop innovative solutions to complex problems. Additionally, I have a solid understanding of DBMS, object-oriented programming, operating systems, computer networking, and information cybersecurity systems.\n",
      "\n",
      "As an AI Intern, I have worked on multiple projects that demonstrate my capabilities in AI and machine learning. Two notable projects include:\n",
      "\n",
      "1. Big Bang ChatBot: Custom-Generated Conversations for 'The Big Bang Theory' - I developed a sophisticated chatbot leveraging a custom transformer model to simulate engaging and informative conversations about the TV show. I collected and preprocessed extensive data from the show's scripts and transcripts and integrated the transformer model into a chatbot framework.\n",
      "2. RajBot: A Generative AI model for the RP website - I designed and developed a chatbot that assists users on the Rajasthan Police website, enabling efficient retrieval of essential information such as filing reports, office contact details, and complaint status checks. I utilized Dialogflow ES to design the conversational flow and integrate key functionalities like FIR assistance, service information, and navigation support.\n",
      "\n",
      "I have attached links to my portfolio, which showcase my projects and skills in more detail:\n",
      "\n",
      "* https://drive.google.com/file/d/1efAn7uf5QWy36Ajhq_bPzSGlGijiXQUW/view?usp=sharing\n",
      "* https://drive.google.com/file/d/1efAn7uf5QWy36Ajhq_bPzSGlGijiXQUW/view?usp=sharing\n",
      "\n",
      "I am excited about the opportunity to collaborate with experienced cross-disciplinary Amazonians to conceive, design, and bring innovative products and services to market. I am confident that my skills and experience make me a strong candidate for this role, and I look forward to discussing my application with you further.\n",
      "\n",
      "Thank you for considering my application.\n",
      "\n",
      "Sincerely,\n",
      "Ekta\n",
      "AI Intern, Rajasthan Police HeadQuarter\n"
     ]
    }
   ],
   "source": [
    "prompt_email = PromptTemplate.from_template(\n",
    "        \"\"\"\n",
    "        ### JOB DESCRIPTION:\n",
    "        {job_description}\n",
    "        \n",
    "        ### INSTRUCTION:\n",
    "        You are Ekta, an AI Intern at Rajasthan Police HeadQuarter. I have worked on multiple projects like- Big Bang ChatBot: Custom-Generated Conversations for ’The Big Bang Theory §\n",
    "• Developed a sophisticated chatbot leveraging a custom transformer model in the pre-training stage to simulate engaging and informative\n",
    "conversations about the TV show ”The Big Bang Theory.”\n",
    "• Collected and preprocessed extensive data from the show’s scripts and transcripts and integrated the transformer model into a chatbot framework and\n",
    "created comprehensive conversation flows using CUDA virtual environment.\n",
    "RajBot: A Generative AI model for the RP website §\n",
    "• Rajbot is basically a Chatbot that assists users on the Rajasthan Police website, enabling efficient retrieval of essential information such as filing\n",
    "reports, office contact details, and complaint status checks.\n",
    "• Utilized Dialogflow ES to design the conversational flow and integrate key functionalities like FIR assistance, service information, and navigation\n",
    "support.\n",
    "I have the following skills-\n",
    "Languages:Python,SQL,C++ ,Html 5, CSS.\n",
    "Machine Learning and AI: TensorFlow, PyTorch, Scikit-learn,Transformers,Natural Language Processing (NLP), Computer Vision.\n",
    "Developer Tools:V S Code,Android Studio,PyCharm, Eclipse.\n",
    "CS Fundamentals:DBMS, Object Oriented Programming, Operating System, Computer Networking,Information Cybersecurity System\n",
    "         \n",
    "        Your job is to write a cold email to the compnayh regarding the job mentioned above describing the capability of Ekta \n",
    "        in fulfilling their needs.\n",
    "        Also add the most relevant ones from the following links to showcase Ekta's portfolio: {link_list}\n",
    "        Remember you are Ekta, AI Intern at Rajasthan Police HeadQuarter. \n",
    "        Do not provide a preamble.\n",
    "        ### EMAIL (NO PREAMBLE):\n",
    "        \n",
    "        \"\"\"\n",
    "        )\n",
    "\n",
    "chain_email = prompt_email | llm\n",
    "res = chain_email.invoke({\"job_description\": str(job), \"link_list\": links})\n",
    "print(res.content)"
   ]
  },
  {
   "cell_type": "code",
   "execution_count": null,
   "id": "59259559-adc3-44cf-8847-4a763e02f656",
   "metadata": {},
   "outputs": [],
   "source": []
  }
 ],
 "metadata": {
  "kernelspec": {
   "display_name": "Python (myenv)",
   "language": "python",
   "name": "myenv"
  },
  "language_info": {
   "codemirror_mode": {
    "name": "ipython",
    "version": 3
   },
   "file_extension": ".py",
   "mimetype": "text/x-python",
   "name": "python",
   "nbconvert_exporter": "python",
   "pygments_lexer": "ipython3",
   "version": "3.12.0"
  }
 },
 "nbformat": 4,
 "nbformat_minor": 5
}
